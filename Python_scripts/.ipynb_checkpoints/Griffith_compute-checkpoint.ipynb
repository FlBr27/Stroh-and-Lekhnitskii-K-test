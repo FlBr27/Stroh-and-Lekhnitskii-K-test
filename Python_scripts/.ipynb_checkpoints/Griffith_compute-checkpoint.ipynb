{
 "cells": [
  {
   "cell_type": "markdown",
   "id": "53cb4803-5a7a-4a05-9f96-977bd07d7e7b",
   "metadata": {},
   "source": [
    "# Calculation of the Griffith value for grain boundaries and single crystals\n",
    "This scripts calculates the critical stress intensity factor brittle crack extension according to the Griffith theory [Phil. Trans. Royal Soc. A 221, pp. 163–198 (1920)] within the framework of the STH formalism [Modelling Simul. Mater. Sci. Eng. 33, 035004 (2025)]."
   ]
  },
  {
   "cell_type": "code",
   "execution_count": 9,
   "id": "ff513799-ec7b-4a70-862a-221bb369dee5",
   "metadata": {},
   "outputs": [],
   "source": [
    "import numpy as np\n",
    "from numpy import linalg as la\n",
    "import gb_funcs as gbfun"
   ]
  },
  {
   "cell_type": "markdown",
   "id": "7a73a645-6eb7-4965-84c7-1bc1c4f032d8",
   "metadata": {},
   "source": [
    "#### Required parameters"
   ]
  },
  {
   "cell_type": "code",
   "execution_count": 12,
   "id": "4e0a57b3-a5e0-4535-ba0c-c2e34a829985",
   "metadata": {},
   "outputs": [],
   "source": [
    "# Grain boundary specification\n",
    "sigma = 1                # sigma value (sigma = 1 for SCs)\n",
    "phi_deg = 0.0           # rotation angle in ° (phi_deg = 0 for SCs)\n",
    "y1 = np.array([1,1,1])   # grain boundary normal w.r.t. grain 1 or crack plane normal for SCs\n",
    "z1 = np.array([1,1,-2])   # common rotation axis / out-of-plane direction\n",
    "\n",
    "# Elastic Constants (Fe)\n",
    "C_11 = 244.2857 # all in [GPa]\n",
    "C_12 = 145.3217\n",
    "C_44 = 116.3485\n",
    "\n",
    "# Crack length and grain (region) to be simulated\n",
    "a = 10000.0 # [A]\n",
    "\n",
    "## surface and grain boundary energies\n",
    "gamma_s1 = 124.720 # surface energy of crack surface 1 in [meV/A^2]\n",
    "gamma_s2 = 124.720 # surface energy of crack surface 2 in [meV/A^2]\n",
    "gamma_gb = 0.0 # grain boundary energy in [meV/A^2]\n"
   ]
  },
  {
   "cell_type": "markdown",
   "id": "3a7aad93-1c46-4215-92d9-7c9dd0b97961",
   "metadata": {},
   "source": [
    "#### Griffith analysis within the Stroh formalism"
   ]
  },
  {
   "cell_type": "code",
   "execution_count": 26,
   "id": "1e0d865f-c322-432b-bc9f-fd32984fb206",
   "metadata": {},
   "outputs": [
    {
     "name": "stdout",
     "output_type": "stream",
     "text": [
      "K_IG = 0.981 MPa*sqrt(m)\n"
     ]
    }
   ],
   "source": [
    "# build elastic stiffness matrix with function or manually\n",
    "C_el = gbfun.build_cubic_stiff(C_11, C_12, C_44)\n",
    "\n",
    "# check if specified elasticity matrix is physical\n",
    "if not gbfun.is_positive_definite(C_el):\n",
    "    raise Exception(\"The specified elastic stiffness matrix is unphysical!\")\n",
    "    \n",
    "# conversion factor from sqrt(meV/A^2 * GPa) to MPa*sqrt(m)\n",
    "conv_fac = np.sqrt(16.022)/1000\n",
    "\n",
    "# grain boundary case\n",
    "if sigma != 1:\n",
    "    \n",
    "    # find the orientation vectors of both grains\n",
    "    x1, x2, y2, z2 = gbfun.find_stgb_struc(phi_deg, y1, z1)\n",
    "      \n",
    "    # find the stiffness matrices for grain 1 and 2\n",
    "    C_el1 = gbfun.rotate_stiff_mat(C_el, x1, y1, z1)\n",
    "    C_el2 = gbfun.rotate_stiff_mat(C_el, x2, y2, z2)\n",
    "    \n",
    "    # calculate p, A and B of the Stroh formalism\n",
    "    p1, A1, B1 = gbfun.Stroh6(C_el1, verbose=True)\n",
    "    p2, A2, B2 = gbfun.Stroh6(C_el2, verbose=True)\n",
    "    \n",
    "    B1_inv = la.inv(B1)\n",
    "    B2_inv = la.inv(B2)\n",
    "    \n",
    "# single crystal case\n",
    "else:\n",
    "    # find the missing orientation vector\n",
    "    x1 = np.cross(y1, z1)\n",
    "      \n",
    "    # find the stiffness matrices for grain 1 and 2\n",
    "    C_el1 = gbfun.rotate_stiff_mat(C_el, x1, y1, z1)\n",
    "    C_el2 = C_el1\n",
    "    \n",
    "    # calculate p, A and B of the Stroh formalism\n",
    "    p1, A1, B1 = gbfun.Stroh6(C_el1)\n",
    "    \n",
    "    p2 = p1\n",
    "    A2 = A1\n",
    "    B2 = B1\n",
    "    \n",
    "    B1_inv = la.inv(B1)\n",
    "    B2_inv = B1_inv\n",
    "    \n",
    "# calculate the required parameters of the Stroh formalism\n",
    "Param = gbfun.Stroh6_Coeff(p1, A1, B1, p2, A2, B2, a)\n",
    "\n",
    "S_brev = Param['S_brev']\n",
    "Phi_inv = Param['Phi_inv']\n",
    "\n",
    "# determing E_11 for the Griffith criterion\n",
    "# inverse impedance tensors\n",
    "M_inv1 = 1j*A1 @ B1_inv\n",
    "M_inv2 = 1j*A2 @ B2_inv\n",
    "\n",
    "# bimaterial matrix\n",
    "M_st = M_inv1 + np.conjugate(M_inv2)\n",
    "\n",
    "D = np.real(M_st)\n",
    "W = -np.imag(M_st)\n",
    "\n",
    "E = D + W @ la.inv(D) @ W\n",
    "\n",
    "K_IG = conv_fac * 2 * np.sqrt((gamma_s1 + gamma_s2 - gamma_gb) / E[1,1])\n",
    "\n",
    "print(\"K_IG = %.3f MPa*sqrt(m)\" % K_IG)"
   ]
  }
 ],
 "metadata": {
  "kernelspec": {
   "display_name": "Python 3 (ipykernel)",
   "language": "python",
   "name": "python3"
  },
  "language_info": {
   "codemirror_mode": {
    "name": "ipython",
    "version": 3
   },
   "file_extension": ".py",
   "mimetype": "text/x-python",
   "name": "python",
   "nbconvert_exporter": "python",
   "pygments_lexer": "ipython3",
   "version": "3.11.10"
  }
 },
 "nbformat": 4,
 "nbformat_minor": 5
}
