{
 "cells": [
  {
   "cell_type": "code",
   "execution_count": null,
   "id": "d1137143-d16d-48f4-92f0-9a62ae267074",
   "metadata": {},
   "outputs": [],
   "source": []
  }
 ],
 "metadata": {
  "kernelspec": {
   "display_name": "",
   "name": ""
  },
  "language_info": {
   "name": ""
  }
 },
 "nbformat": 4,
 "nbformat_minor": 5
}
