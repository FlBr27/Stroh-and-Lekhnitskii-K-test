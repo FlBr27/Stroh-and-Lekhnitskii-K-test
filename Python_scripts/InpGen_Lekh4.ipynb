{
 "cells": [
  {
   "cell_type": "markdown",
   "id": "a67f93bc-8bdd-47ac-847c-e28f4a4f8b77",
   "metadata": {},
   "source": [
    "# Generating input parameters according to the 4th-order Lekhnitskii formalism\n",
    "This script generates and exports the coefficients that are required as input\n",
    "parameters for the \"crackaniso\" style of the \"displace_atoms\" command in LAMMPS\n",
    "to generate the displacement field of a grain boundary according to the\n",
    "4th-order Lekhnitskii (LSL) formalism."
   ]
  },
  {
   "cell_type": "code",
   "execution_count": 15,
   "id": "712564a5-e454-40c0-a230-ae85c06d9933",
   "metadata": {},
   "outputs": [],
   "source": [
    "import numpy as np\n",
    "import gb_funcs as gbfun"
   ]
  },
  {
   "cell_type": "markdown",
   "id": "a7027775-354a-4562-97cc-27a3d6dd1c93",
   "metadata": {},
   "source": [
    "#### Required Parameters"
   ]
  },
  {
   "cell_type": "code",
   "execution_count": 17,
   "id": "644d8afd-0dec-451d-bf1c-455c53623326",
   "metadata": {},
   "outputs": [],
   "source": [
    "single_crystal = \"no\" # GB mode if \"no\" and single crystal mode if \"yes\"\n",
    "\n",
    "# Grain boundary specification\n",
    "sigma = 3                  # sigma value\n",
    "phi_deg = 109.47122         # rotation angle in °\n",
    "y1 = np.array([1,1,1])     # grain boundary normal w.r.t. grain 1\n",
    "z1 = np.array([1,-1,0])      # common rotation axis\n",
    "\n",
    "# Elastic Constants (Fe)\n",
    "C_11 = 244.2857 # all in [GPa]\n",
    "C_12 = 145.3217\n",
    "C_44 = 116.3485"
   ]
  },
  {
   "cell_type": "markdown",
   "id": "f2f3a7fd-e459-480b-bc02-4e76e1975eb0",
   "metadata": {},
   "source": [
    "#### Computation of Required Quantities and Writing to File"
   ]
  },
  {
   "cell_type": "code",
   "execution_count": 20,
   "id": "d1137143-d16d-48f4-92f0-9a62ae267074",
   "metadata": {},
   "outputs": [
    {
     "name": "stdout",
     "output_type": "stream",
     "text": [
      "The specified grain boundary will NOT yield oscillatory behaviour!\n"
     ]
    }
   ],
   "source": [
    "if single_crystal == \"no\":\n",
    "\n",
    "    # find the orientation vectors of both grains\n",
    "    x1, x2, y2, z2 = gbfun.find_stgb_struc(phi_deg, y1, z1)\n",
    "    \n",
    "    # build the (unrotated) stiffness matrix\n",
    "    C_el = gbfun.build_cubic_stiff(C_11, C_12, C_44)\n",
    "    \n",
    "    # find the stiffness matrices for grain 1 and 2\n",
    "    C_el1 = gbfun.rotate_stiff_mat(C_el, x1, y1, z1)\n",
    "    C_el2 = gbfun.rotate_stiff_mat(C_el, x2, y2, z2)\n",
    "    \n",
    "    # check if oscillatory behaviour is to be expected\n",
    "    gbfun.Qu_Bassani_check(C_el1, C_el2)\n",
    "    \n",
    "    # Name of ouputfile (i.e. LAMMPS input file)\n",
    "    outpf_name = 'GB_S'+str(sigma)+'_'+str(y1[0])+str(y1[1])+str(y1[2])+\\\n",
    "        '_'+str(z1[0])+str(z1[1])+str(z1[2])+'_Lekh4'\n",
    "    \n",
    "    coeff_Lekh4ps = gbfun.GB_InpGen_Lekh_4ps(C_el1, C_el2, write='LAMMPS',\n",
    "                                        outpf_name=outpf_name,ex_hand='off')\n",
    "    \n",
    "elif single_crystal == \"yes\":\n",
    "    \n",
    "    x1 = np.cross(y1, z1)\n",
    "    \n",
    "    # build the (unrotated) stiffness matrix\n",
    "    C_el = gbfun.build_cubic_stiff(C_11, C_12, C_44)\n",
    "    \n",
    "    # find the stiffness matrices for grain 1 and 2\n",
    "    C_el1 = gbfun.rotate_stiff_mat(C_el, x1, y1, z1)\n",
    "    \n",
    "    # Name of ouputfile (i.e. LAMMPS input file)\n",
    "    outpf_name = 'SC_'+str(y1[0])+str(y1[1])+str(y1[2])+\\\n",
    "        '_'+str(z1[0])+str(z1[1])+str(z1[2])+'_Lekh4'\n",
    "    \n",
    "    coeff_Lekh4ps = gbfun.GB_InpGen_Lekh_4ps(C_el1, C_el1, write='LAMMPS',\n",
    "                                        outpf_name=outpf_name,ex_hand='off')\n",
    "    \n",
    "else:\n",
    "    raise Exception(\"Single_crytal flag was incorrectly specified!\")\n"
   ]
  }
 ],
 "metadata": {
  "kernelspec": {
   "display_name": "Python 3 (ipykernel)",
   "language": "python",
   "name": "python3"
  },
  "language_info": {
   "codemirror_mode": {
    "name": "ipython",
    "version": 3
   },
   "file_extension": ".py",
   "mimetype": "text/x-python",
   "name": "python",
   "nbconvert_exporter": "python",
   "pygments_lexer": "ipython3",
   "version": "3.11.10"
  }
 },
 "nbformat": 4,
 "nbformat_minor": 5
}
